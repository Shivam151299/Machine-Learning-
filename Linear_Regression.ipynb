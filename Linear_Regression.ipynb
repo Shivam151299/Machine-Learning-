{
  "nbformat": 4,
  "nbformat_minor": 0,
  "metadata": {
    "colab": {
      "name": "ML_lab 1",
      "provenance": [],
      "authorship_tag": "ABX9TyP7mKpiKRyRpWmNDA6BpjMt",
      "include_colab_link": true
    },
    "kernelspec": {
      "name": "python3",
      "display_name": "Python 3"
    },
    "language_info": {
      "name": "python"
    }
  },
  "cells": [
    {
      "cell_type": "markdown",
      "metadata": {
        "id": "view-in-github",
        "colab_type": "text"
      },
      "source": [
        "<a href=\"https://colab.research.google.com/github/Shivam151299/Machine-Learning-/blob/main/Linear_Regression.ipynb\" target=\"_parent\"><img src=\"https://colab.research.google.com/assets/colab-badge.svg\" alt=\"Open In Colab\"/></a>"
      ]
    },
    {
      "cell_type": "code",
      "execution_count": 11,
      "metadata": {
        "id": "yaZJSdggMZTB"
      },
      "outputs": [],
      "source": [
        "import pandas as pd\n",
        "import numpy as np\n",
        "from sklearn.model_selection import train_test_split\n",
        "import math\n",
        "from tqdm import tqdm\n",
        "import matplotlib.pyplot as plt"
      ]
    },
    {
      "cell_type": "code",
      "source": [
        "housing = pd.read_csv('/content/housing.csv')\n",
        "yacht = pd.read_csv('/content/yachtData.csv')\n",
        "concrete = pd.read_csv('/content/concreteData.csv')"
      ],
      "metadata": {
        "id": "Yr5k59IlMcgi"
      },
      "execution_count": 12,
      "outputs": []
    },
    {
      "cell_type": "code",
      "source": [
        "housing"
      ],
      "metadata": {
        "colab": {
          "base_uri": "https://localhost:8080/",
          "height": 423
        },
        "id": "MNRj0n8KDcXP",
        "outputId": "524851d1-4637-47cb-bf20-1c750f0dd72d"
      },
      "execution_count": 13,
      "outputs": [
        {
          "output_type": "execute_result",
          "data": {
            "text/plain": [
              "     0.00632   18   2.31  0  0.538  6.575  65.2    4.09  1  296  15.3   396.9  \\\n",
              "0    0.02731  0.0   7.07  0  0.469  6.421  78.9  4.9671  2  242  17.8  396.90   \n",
              "1    0.02729  0.0   7.07  0  0.469  7.185  61.1  4.9671  2  242  17.8  392.83   \n",
              "2    0.03237  0.0   2.18  0  0.458  6.998  45.8  6.0622  3  222  18.7  394.63   \n",
              "3    0.06905  0.0   2.18  0  0.458  7.147  54.2  6.0622  3  222  18.7  396.90   \n",
              "4    0.02985  0.0   2.18  0  0.458  6.430  58.7  6.0622  3  222  18.7  394.12   \n",
              "..       ...  ...    ... ..    ...    ...   ...     ... ..  ...   ...     ...   \n",
              "500  0.06263  0.0  11.93  0  0.573  6.593  69.1  2.4786  1  273  21.0  391.99   \n",
              "501  0.04527  0.0  11.93  0  0.573  6.120  76.7  2.2875  1  273  21.0  396.90   \n",
              "502  0.06076  0.0  11.93  0  0.573  6.976  91.0  2.1675  1  273  21.0  396.90   \n",
              "503  0.10959  0.0  11.93  0  0.573  6.794  89.3  2.3889  1  273  21.0  393.45   \n",
              "504  0.04741  0.0  11.93  0  0.573  6.030  80.8  2.5050  1  273  21.0  396.90   \n",
              "\n",
              "     4.98    24  \n",
              "0    9.14  21.6  \n",
              "1    4.03  34.7  \n",
              "2    2.94  33.4  \n",
              "3    5.33  36.2  \n",
              "4    5.21  28.7  \n",
              "..    ...   ...  \n",
              "500  9.67  22.4  \n",
              "501  9.08  20.6  \n",
              "502  5.64  23.9  \n",
              "503  6.48  22.0  \n",
              "504  7.88  11.9  \n",
              "\n",
              "[505 rows x 14 columns]"
            ],
            "text/html": [
              "\n",
              "  <div id=\"df-38417e0f-bf3d-4ee2-85f4-e0f87f09fee4\">\n",
              "    <div class=\"colab-df-container\">\n",
              "      <div>\n",
              "<style scoped>\n",
              "    .dataframe tbody tr th:only-of-type {\n",
              "        vertical-align: middle;\n",
              "    }\n",
              "\n",
              "    .dataframe tbody tr th {\n",
              "        vertical-align: top;\n",
              "    }\n",
              "\n",
              "    .dataframe thead th {\n",
              "        text-align: right;\n",
              "    }\n",
              "</style>\n",
              "<table border=\"1\" class=\"dataframe\">\n",
              "  <thead>\n",
              "    <tr style=\"text-align: right;\">\n",
              "      <th></th>\n",
              "      <th>0.00632</th>\n",
              "      <th>18</th>\n",
              "      <th>2.31</th>\n",
              "      <th>0</th>\n",
              "      <th>0.538</th>\n",
              "      <th>6.575</th>\n",
              "      <th>65.2</th>\n",
              "      <th>4.09</th>\n",
              "      <th>1</th>\n",
              "      <th>296</th>\n",
              "      <th>15.3</th>\n",
              "      <th>396.9</th>\n",
              "      <th>4.98</th>\n",
              "      <th>24</th>\n",
              "    </tr>\n",
              "  </thead>\n",
              "  <tbody>\n",
              "    <tr>\n",
              "      <th>0</th>\n",
              "      <td>0.02731</td>\n",
              "      <td>0.0</td>\n",
              "      <td>7.07</td>\n",
              "      <td>0</td>\n",
              "      <td>0.469</td>\n",
              "      <td>6.421</td>\n",
              "      <td>78.9</td>\n",
              "      <td>4.9671</td>\n",
              "      <td>2</td>\n",
              "      <td>242</td>\n",
              "      <td>17.8</td>\n",
              "      <td>396.90</td>\n",
              "      <td>9.14</td>\n",
              "      <td>21.6</td>\n",
              "    </tr>\n",
              "    <tr>\n",
              "      <th>1</th>\n",
              "      <td>0.02729</td>\n",
              "      <td>0.0</td>\n",
              "      <td>7.07</td>\n",
              "      <td>0</td>\n",
              "      <td>0.469</td>\n",
              "      <td>7.185</td>\n",
              "      <td>61.1</td>\n",
              "      <td>4.9671</td>\n",
              "      <td>2</td>\n",
              "      <td>242</td>\n",
              "      <td>17.8</td>\n",
              "      <td>392.83</td>\n",
              "      <td>4.03</td>\n",
              "      <td>34.7</td>\n",
              "    </tr>\n",
              "    <tr>\n",
              "      <th>2</th>\n",
              "      <td>0.03237</td>\n",
              "      <td>0.0</td>\n",
              "      <td>2.18</td>\n",
              "      <td>0</td>\n",
              "      <td>0.458</td>\n",
              "      <td>6.998</td>\n",
              "      <td>45.8</td>\n",
              "      <td>6.0622</td>\n",
              "      <td>3</td>\n",
              "      <td>222</td>\n",
              "      <td>18.7</td>\n",
              "      <td>394.63</td>\n",
              "      <td>2.94</td>\n",
              "      <td>33.4</td>\n",
              "    </tr>\n",
              "    <tr>\n",
              "      <th>3</th>\n",
              "      <td>0.06905</td>\n",
              "      <td>0.0</td>\n",
              "      <td>2.18</td>\n",
              "      <td>0</td>\n",
              "      <td>0.458</td>\n",
              "      <td>7.147</td>\n",
              "      <td>54.2</td>\n",
              "      <td>6.0622</td>\n",
              "      <td>3</td>\n",
              "      <td>222</td>\n",
              "      <td>18.7</td>\n",
              "      <td>396.90</td>\n",
              "      <td>5.33</td>\n",
              "      <td>36.2</td>\n",
              "    </tr>\n",
              "    <tr>\n",
              "      <th>4</th>\n",
              "      <td>0.02985</td>\n",
              "      <td>0.0</td>\n",
              "      <td>2.18</td>\n",
              "      <td>0</td>\n",
              "      <td>0.458</td>\n",
              "      <td>6.430</td>\n",
              "      <td>58.7</td>\n",
              "      <td>6.0622</td>\n",
              "      <td>3</td>\n",
              "      <td>222</td>\n",
              "      <td>18.7</td>\n",
              "      <td>394.12</td>\n",
              "      <td>5.21</td>\n",
              "      <td>28.7</td>\n",
              "    </tr>\n",
              "    <tr>\n",
              "      <th>...</th>\n",
              "      <td>...</td>\n",
              "      <td>...</td>\n",
              "      <td>...</td>\n",
              "      <td>...</td>\n",
              "      <td>...</td>\n",
              "      <td>...</td>\n",
              "      <td>...</td>\n",
              "      <td>...</td>\n",
              "      <td>...</td>\n",
              "      <td>...</td>\n",
              "      <td>...</td>\n",
              "      <td>...</td>\n",
              "      <td>...</td>\n",
              "      <td>...</td>\n",
              "    </tr>\n",
              "    <tr>\n",
              "      <th>500</th>\n",
              "      <td>0.06263</td>\n",
              "      <td>0.0</td>\n",
              "      <td>11.93</td>\n",
              "      <td>0</td>\n",
              "      <td>0.573</td>\n",
              "      <td>6.593</td>\n",
              "      <td>69.1</td>\n",
              "      <td>2.4786</td>\n",
              "      <td>1</td>\n",
              "      <td>273</td>\n",
              "      <td>21.0</td>\n",
              "      <td>391.99</td>\n",
              "      <td>9.67</td>\n",
              "      <td>22.4</td>\n",
              "    </tr>\n",
              "    <tr>\n",
              "      <th>501</th>\n",
              "      <td>0.04527</td>\n",
              "      <td>0.0</td>\n",
              "      <td>11.93</td>\n",
              "      <td>0</td>\n",
              "      <td>0.573</td>\n",
              "      <td>6.120</td>\n",
              "      <td>76.7</td>\n",
              "      <td>2.2875</td>\n",
              "      <td>1</td>\n",
              "      <td>273</td>\n",
              "      <td>21.0</td>\n",
              "      <td>396.90</td>\n",
              "      <td>9.08</td>\n",
              "      <td>20.6</td>\n",
              "    </tr>\n",
              "    <tr>\n",
              "      <th>502</th>\n",
              "      <td>0.06076</td>\n",
              "      <td>0.0</td>\n",
              "      <td>11.93</td>\n",
              "      <td>0</td>\n",
              "      <td>0.573</td>\n",
              "      <td>6.976</td>\n",
              "      <td>91.0</td>\n",
              "      <td>2.1675</td>\n",
              "      <td>1</td>\n",
              "      <td>273</td>\n",
              "      <td>21.0</td>\n",
              "      <td>396.90</td>\n",
              "      <td>5.64</td>\n",
              "      <td>23.9</td>\n",
              "    </tr>\n",
              "    <tr>\n",
              "      <th>503</th>\n",
              "      <td>0.10959</td>\n",
              "      <td>0.0</td>\n",
              "      <td>11.93</td>\n",
              "      <td>0</td>\n",
              "      <td>0.573</td>\n",
              "      <td>6.794</td>\n",
              "      <td>89.3</td>\n",
              "      <td>2.3889</td>\n",
              "      <td>1</td>\n",
              "      <td>273</td>\n",
              "      <td>21.0</td>\n",
              "      <td>393.45</td>\n",
              "      <td>6.48</td>\n",
              "      <td>22.0</td>\n",
              "    </tr>\n",
              "    <tr>\n",
              "      <th>504</th>\n",
              "      <td>0.04741</td>\n",
              "      <td>0.0</td>\n",
              "      <td>11.93</td>\n",
              "      <td>0</td>\n",
              "      <td>0.573</td>\n",
              "      <td>6.030</td>\n",
              "      <td>80.8</td>\n",
              "      <td>2.5050</td>\n",
              "      <td>1</td>\n",
              "      <td>273</td>\n",
              "      <td>21.0</td>\n",
              "      <td>396.90</td>\n",
              "      <td>7.88</td>\n",
              "      <td>11.9</td>\n",
              "    </tr>\n",
              "  </tbody>\n",
              "</table>\n",
              "<p>505 rows × 14 columns</p>\n",
              "</div>\n",
              "      <button class=\"colab-df-convert\" onclick=\"convertToInteractive('df-38417e0f-bf3d-4ee2-85f4-e0f87f09fee4')\"\n",
              "              title=\"Convert this dataframe to an interactive table.\"\n",
              "              style=\"display:none;\">\n",
              "        \n",
              "  <svg xmlns=\"http://www.w3.org/2000/svg\" height=\"24px\"viewBox=\"0 0 24 24\"\n",
              "       width=\"24px\">\n",
              "    <path d=\"M0 0h24v24H0V0z\" fill=\"none\"/>\n",
              "    <path d=\"M18.56 5.44l.94 2.06.94-2.06 2.06-.94-2.06-.94-.94-2.06-.94 2.06-2.06.94zm-11 1L8.5 8.5l.94-2.06 2.06-.94-2.06-.94L8.5 2.5l-.94 2.06-2.06.94zm10 10l.94 2.06.94-2.06 2.06-.94-2.06-.94-.94-2.06-.94 2.06-2.06.94z\"/><path d=\"M17.41 7.96l-1.37-1.37c-.4-.4-.92-.59-1.43-.59-.52 0-1.04.2-1.43.59L10.3 9.45l-7.72 7.72c-.78.78-.78 2.05 0 2.83L4 21.41c.39.39.9.59 1.41.59.51 0 1.02-.2 1.41-.59l7.78-7.78 2.81-2.81c.8-.78.8-2.07 0-2.86zM5.41 20L4 18.59l7.72-7.72 1.47 1.35L5.41 20z\"/>\n",
              "  </svg>\n",
              "      </button>\n",
              "      \n",
              "  <style>\n",
              "    .colab-df-container {\n",
              "      display:flex;\n",
              "      flex-wrap:wrap;\n",
              "      gap: 12px;\n",
              "    }\n",
              "\n",
              "    .colab-df-convert {\n",
              "      background-color: #E8F0FE;\n",
              "      border: none;\n",
              "      border-radius: 50%;\n",
              "      cursor: pointer;\n",
              "      display: none;\n",
              "      fill: #1967D2;\n",
              "      height: 32px;\n",
              "      padding: 0 0 0 0;\n",
              "      width: 32px;\n",
              "    }\n",
              "\n",
              "    .colab-df-convert:hover {\n",
              "      background-color: #E2EBFA;\n",
              "      box-shadow: 0px 1px 2px rgba(60, 64, 67, 0.3), 0px 1px 3px 1px rgba(60, 64, 67, 0.15);\n",
              "      fill: #174EA6;\n",
              "    }\n",
              "\n",
              "    [theme=dark] .colab-df-convert {\n",
              "      background-color: #3B4455;\n",
              "      fill: #D2E3FC;\n",
              "    }\n",
              "\n",
              "    [theme=dark] .colab-df-convert:hover {\n",
              "      background-color: #434B5C;\n",
              "      box-shadow: 0px 1px 3px 1px rgba(0, 0, 0, 0.15);\n",
              "      filter: drop-shadow(0px 1px 2px rgba(0, 0, 0, 0.3));\n",
              "      fill: #FFFFFF;\n",
              "    }\n",
              "  </style>\n",
              "\n",
              "      <script>\n",
              "        const buttonEl =\n",
              "          document.querySelector('#df-38417e0f-bf3d-4ee2-85f4-e0f87f09fee4 button.colab-df-convert');\n",
              "        buttonEl.style.display =\n",
              "          google.colab.kernel.accessAllowed ? 'block' : 'none';\n",
              "\n",
              "        async function convertToInteractive(key) {\n",
              "          const element = document.querySelector('#df-38417e0f-bf3d-4ee2-85f4-e0f87f09fee4');\n",
              "          const dataTable =\n",
              "            await google.colab.kernel.invokeFunction('convertToInteractive',\n",
              "                                                     [key], {});\n",
              "          if (!dataTable) return;\n",
              "\n",
              "          const docLinkHtml = 'Like what you see? Visit the ' +\n",
              "            '<a target=\"_blank\" href=https://colab.research.google.com/notebooks/data_table.ipynb>data table notebook</a>'\n",
              "            + ' to learn more about interactive tables.';\n",
              "          element.innerHTML = '';\n",
              "          dataTable['output_type'] = 'display_data';\n",
              "          await google.colab.output.renderOutput(dataTable, element);\n",
              "          const docLink = document.createElement('div');\n",
              "          docLink.innerHTML = docLinkHtml;\n",
              "          element.appendChild(docLink);\n",
              "        }\n",
              "      </script>\n",
              "    </div>\n",
              "  </div>\n",
              "  "
            ]
          },
          "metadata": {},
          "execution_count": 13
        }
      ]
    },
    {
      "cell_type": "code",
      "source": [
        "housing.values[:,:13].shape"
      ],
      "metadata": {
        "colab": {
          "base_uri": "https://localhost:8080/"
        },
        "id": "cXFdeDLbF3EU",
        "outputId": "483366e3-619e-4dd3-d08b-b63e4a9be797"
      },
      "execution_count": 14,
      "outputs": [
        {
          "output_type": "execute_result",
          "data": {
            "text/plain": [
              "(505, 13)"
            ]
          },
          "metadata": {},
          "execution_count": 14
        }
      ]
    },
    {
      "cell_type": "code",
      "source": [
        "class LinearRegression():\n",
        "  def __init__(self, X , y , learningRate, tolerance, maxIteration, batch_size, l, gd = False, sgd = False, reg = False) -> None:\n",
        "    self.X = housing.values[:,:13]\n",
        "    self.y = housing.values[:, 13]\n",
        "    self.learningRate = learningRate\n",
        "    self.tolerance = tolerance\n",
        "    self.maxIteration = maxIteration\n",
        "    self.gd = gd\n",
        "    self.sgd = sgd\n",
        "    self.reg = reg\n",
        "    self.l = l\n",
        "    self.batch_size = batch_size\n",
        "\n",
        "  def trainTestSplit(self):\n",
        "    X_train, X_test, y_train, y_test = train_test_split(self.X, self.y, test_size= 0.3, random_state = 0)    \n",
        "    return X_train, X_test, y_train, y_test\n",
        "  \n",
        "  def add_X0(self, X):\n",
        "    return np.column_stack([np.ones([X.shape[0], 1]), X])\n",
        "\n",
        "  def normalize(self, X):\n",
        "    mean = np.mean(X, 0)\n",
        "    sd = np.std(X, 0)\n",
        "    X_norm = (X - mean)/sd\n",
        "    X_norm = self.add_X0(X_norm)\n",
        "    return X_norm, mean, sd\n",
        "\n",
        "  def normalizeTestData(self, X, trainMean, trainsd):\n",
        "    X_norm = (X-trainMean)/trainsd\n",
        "    X_norm = self.add_X0(X_norm)\n",
        "    return X_norm\n",
        "\n",
        "  def rank(seld, X, eps = 1e-12):\n",
        "    u, s, vh = np.linalg.svd(X)\n",
        "    return len([x for x in s if abs(x) > eps])\n",
        "\n",
        "  def checkMatrix(self, X):\n",
        "    X_rank = self.rank(X)\n",
        "    if X_rank == min(X.shape[0], X.shape[1]):\n",
        "      self.fullRank = True\n",
        "      print(\"Data is Full Rank\")\n",
        "    else:\n",
        "      self.fullRank = False\n",
        "      print(\"Data is not Full Rank\")\n",
        "\n",
        "  def checkInvertibility(self, X):\n",
        "    if X.shape[0] < X.shape[1]:\n",
        "      self.lowRank = True\n",
        "      print(\"Data is low Rank\")\n",
        "    else:\n",
        "      self.lowRank = False\n",
        "      print(\"Data is not low Rank\")\n",
        "    \n",
        "  def closedFormSolution(self, X, y):\n",
        "    w = np.linalg.inv(X.T.dot(X)).dot(X.T).dot(y)\n",
        "    return w\n",
        "\n",
        "  def gradientDescent(self, X, y):\n",
        "    errorSequences = []\n",
        "    last = float('inf')\n",
        "    for t in tqdm(range(self.maxIteration)):\n",
        "      self.w = self.w - self.learningRate*self.costDerivation(X, y) + self.l*self.Regularization(self.w)\n",
        "      cur = self.sse(X, y)\n",
        "      diff = last - cur\n",
        "      last = cur\n",
        "      errorSequences.append(cur)\n",
        "      \n",
        "      if t%100 == 0:\n",
        "        print('epoch:',t,'error:',cur)\n",
        "      \n",
        "      if diff < self.tolerance:\n",
        "        print(\"The model stopped - no further improvement ended at epoch: \",t)\n",
        "        break\n",
        "\n",
        "    plt.plot(errorSequences)\n",
        "    plt.title('Error vs epoch')\n",
        "    plt.xlabel('epoches')\n",
        "    plt.ylabel('error')\n",
        "    plt.show()\n",
        "\n",
        "\n",
        "  def sse(self, X, y):\n",
        "    y_hat = self.predict(X)\n",
        "    return ((y_hat - y)**2).sum()/len(y)\n",
        "\n",
        "  def predict(self, X):\n",
        "    return X.dot(self.w)\n",
        "\n",
        "  def costFuntion(self, X):\n",
        "    return self.sse(X, y)/2\n",
        "\n",
        "  def costDerivation(self, X, y):\n",
        "    y_hat = self.predict(X)\n",
        "    return X.T.dot(y_hat - y)\n",
        "\n",
        "  def Regularization(self, w):\n",
        "    if self.reg == False:\n",
        "      return 0\n",
        "    elif self.reg == True:\n",
        "      return 2*self.w\n",
        "\n",
        "  def fit(self):\n",
        "    self.X_train, self.X_test, self.y_train, self.y_test = self.trainTestSplit()\n",
        "\n",
        "    self.X_train, self.mean, self.sd = self.normalize(self.X_train)\n",
        "\n",
        "    self.X_test = self.normalizeTestData(self.X_test, self.mean, self.sd)\n",
        "\n",
        "    self.checkMatrix(self.X_train)\n",
        "    self.checkInvertibility(self.X_train)\n",
        "\n",
        "    if self.fullRank and not self.lowRank and not self.gd and not self.sgd:\n",
        "      print(\"Solving using closed form solution\")\n",
        "      self.w = self.closedFormSolution(self.X_train, self.y_train)\n",
        "\n",
        "    elif not self.sgd:\n",
        "      print(\"Solving using Gradient Descent\")\n",
        "      self.w = np.ones(self.X_train.shape[1], dtype = np.float64)*0\n",
        "      self.gradientDescent(self.X_train, self.y_train)\n",
        "    \n",
        "    elif self.sgd:\n",
        "      print(\"using using Stochastic Gradient Descent\")\n",
        "      ind = np.random.choice(self.X_train.shape[0], 3, replace=False)\n",
        "      self.w = np.ones(self.X_train.shape[1], dtype = np.float64)*0\n",
        "      self.gradientDescent(self.X_train[ind,:], self.y_train[ind])\n",
        "\n",
        "    print(self.w)\n",
        "    print('test error:',self.evaluate(self.X_test, self.y_test))\n",
        "\n",
        "  def evaluate(self, X, y):\n",
        "    return self.sse(X, y)"
      ],
      "metadata": {
        "id": "9XrDiPd0NrsT"
      },
      "execution_count": 15,
      "outputs": []
    },
    {
      "cell_type": "markdown",
      "source": [
        "FOR Housing data"
      ],
      "metadata": {
        "id": "CNpaBZHR5mfF"
      }
    },
    {
      "cell_type": "code",
      "source": [
        "# closed form\n",
        "regression = LinearRegression(housing.values[:,:13], housing.values[:, 13], batch_size= 100, learningRate=0.0004, l = 0.01, tolerance = 0.005, maxIteration= 50000)\n",
        "regression.fit()"
      ],
      "metadata": {
        "id": "8-HW5fIyPuzv",
        "colab": {
          "base_uri": "https://localhost:8080/"
        },
        "outputId": "ab879809-60d7-4baa-d7ec-771d5d90faa8"
      },
      "execution_count": 16,
      "outputs": [
        {
          "output_type": "stream",
          "name": "stdout",
          "text": [
            "Data is Full Rank\n",
            "Data is not low Rank\n",
            "Solving using closed form solution\n",
            "[22.93399433 -0.90751811  1.04796575  0.38867104  0.6622465  -2.17214484\n",
            "  2.58716716  0.50645061 -2.59559964  2.30818886 -1.67320027 -2.33651383\n",
            "  0.65618617 -3.99472177]\n",
            "test error: 21.38160796571934\n"
          ]
        }
      ]
    },
    {
      "cell_type": "code",
      "source": [
        "# gradient descent\n",
        "regression = LinearRegression(housing.values[:,:13], housing.values[:, 13], learningRate=0.0004,batch_size= 100, l = 0.01, tolerance = 0.005, maxIteration= 50000, gd = True)\n",
        "regression.fit()"
      ],
      "metadata": {
        "id": "vZ3zBZMb7MqN",
        "colab": {
          "base_uri": "https://localhost:8080/",
          "height": 469
        },
        "outputId": "e7a0394e-ef6b-46db-cfaf-5d55f2ae30e1"
      },
      "execution_count": 17,
      "outputs": [
        {
          "output_type": "stream",
          "name": "stdout",
          "text": [
            "Data is Full Rank\n",
            "Data is not low Rank\n",
            "Solving using Gradient Descent\n"
          ]
        },
        {
          "output_type": "stream",
          "name": "stderr",
          "text": [
            "  0%|          | 75/50000 [00:00<00:05, 9886.01it/s]"
          ]
        },
        {
          "output_type": "stream",
          "name": "stdout",
          "text": [
            "epoch: 0 error: 434.1872343200513\n",
            "The model stopped - no further improvement ended at epoch:  75\n"
          ]
        },
        {
          "output_type": "stream",
          "name": "stderr",
          "text": [
            "\n"
          ]
        },
        {
          "output_type": "display_data",
          "data": {
            "text/plain": [
              "<Figure size 432x288 with 1 Axes>"
            ],
            "image/png": "[encoded data removed]"
          },
          "metadata": {
            "needs_background": "light"
          }
        },
        {
          "output_type": "stream",
          "name": "stdout",
          "text": [
            "[22.93377743 -0.80913513  0.84884442  0.02551599  0.70993813 -1.71910874\n",
            "  2.78246422  0.2675656  -2.41418813  1.30825781 -0.72662622 -2.22884647\n",
            "  0.6571461  -3.85924068]\n",
            "test error: 21.670564832970843\n"
          ]
        }
      ]
    },
    {
      "cell_type": "code",
      "source": [
        "# gradient descent with regularization\n",
        "regression = LinearRegression(housing.values[:,:13], housing.values[:, 13], learningRate=0.0004,batch_size= 100, l = 0.001, tolerance = 0.005, maxIteration= 50000, gd = True, reg = True)\n",
        "regression.fit()"
      ],
      "metadata": {
        "colab": {
          "base_uri": "https://localhost:8080/",
          "height": 469
        },
        "id": "dWbq7pTHCxlX",
        "outputId": "f70ed4ea-c7c6-4f2c-df30-3f5736877be3"
      },
      "execution_count": 18,
      "outputs": [
        {
          "output_type": "stream",
          "name": "stdout",
          "text": [
            "Data is Full Rank\n",
            "Data is not low Rank\n",
            "Solving using Gradient Descent\n"
          ]
        },
        {
          "output_type": "stream",
          "name": "stderr",
          "text": [
            "  0%|          | 74/50000 [00:00<00:02, 19759.26it/s]"
          ]
        },
        {
          "output_type": "stream",
          "name": "stdout",
          "text": [
            "epoch: 0 error: 434.1872343200513\n",
            "The model stopped - no further improvement ended at epoch:  74\n"
          ]
        },
        {
          "output_type": "stream",
          "name": "stderr",
          "text": [
            "\n"
          ]
        },
        {
          "output_type": "display_data",
          "data": {
            "text/plain": [
              "<Figure size 432x288 with 1 Axes>"
            ],
            "image/png": "[encoded data removed]"
          },
          "metadata": {
            "needs_background": "light"
          }
        },
        {
          "output_type": "stream",
          "name": "stdout",
          "text": [
            "[23.26320072 -0.82345511  0.87611467  0.05407866  0.70419581 -1.81058081\n",
            "  2.77359118  0.29579783 -2.5116546   1.38912978 -0.7561495  -2.25860771\n",
            "  0.66124031 -3.93710921]\n",
            "test error: 21.831103881527252\n"
          ]
        }
      ]
    },
    {
      "cell_type": "code",
      "source": [
        "# stochastic gradient descent\n",
        "regression = LinearRegression(housing.values[:,:13], housing.values[:, 13], learningRate=0.0004,batch_size= 100, l =0.001, tolerance = 0.005, maxIteration= 50000, gd = True, reg = True, sgd = True)\n",
        "regression.fit()"
      ],
      "metadata": {
        "id": "x0WvxECfFaKM",
        "colab": {
          "base_uri": "https://localhost:8080/",
          "height": 538
        },
        "outputId": "e63c539a-ce48-4ed1-803b-bbb424c05616"
      },
      "execution_count": 19,
      "outputs": [
        {
          "output_type": "stream",
          "name": "stdout",
          "text": [
            "Data is Full Rank\n",
            "Data is not low Rank\n",
            "using using Stochastic Gradient Descent\n"
          ]
        },
        {
          "output_type": "stream",
          "name": "stderr",
          "text": [
            "  1%|          | 417/50000 [00:00<00:03, 15744.50it/s]"
          ]
        },
        {
          "output_type": "stream",
          "name": "stdout",
          "text": [
            "epoch: 0 error: 481.6013170606723\n",
            "epoch: 100 error: 146.67085123499623\n",
            "epoch: 200 error: 65.03184217454329\n",
            "epoch: 300 error: 28.38462002994571\n",
            "epoch: 400 error: 15.808385099223562\n",
            "The model stopped - no further improvement ended at epoch:  417\n"
          ]
        },
        {
          "output_type": "stream",
          "name": "stderr",
          "text": [
            "\n"
          ]
        },
        {
          "output_type": "display_data",
          "data": {
            "text/plain": [
              "<Figure size 432x288 with 1 Axes>"
            ],
            "image/png": "[encoded data removed]"
          },
          "metadata": {
            "needs_background": "light"
          }
        },
        {
          "output_type": "stream",
          "name": "stdout",
          "text": [
            "[ 6.24206915 -0.76085538 -3.04278823 -1.96609999 -1.56988985  0.35155695\n",
            " -4.91221239 -4.74180963  0.2686205   1.74212801  4.28407335 -0.91308871\n",
            " -0.0510474  -2.73424422]\n",
            "test error: 393.0124024128253\n"
          ]
        }
      ]
    },
    {
      "cell_type": "markdown",
      "source": [
        "FOR YACHT DATA"
      ],
      "metadata": {
        "id": "yLNZCFEo5_Mm"
      }
    },
    {
      "cell_type": "code",
      "source": [
        "yacht.shape"
      ],
      "metadata": {
        "colab": {
          "base_uri": "https://localhost:8080/"
        },
        "id": "JQuHyb7m6L_M",
        "outputId": "b5da3528-deee-429e-8b5d-cdce94ab1f49"
      },
      "execution_count": 20,
      "outputs": [
        {
          "output_type": "execute_result",
          "data": {
            "text/plain": [
              "(307, 7)"
            ]
          },
          "metadata": {},
          "execution_count": 20
        }
      ]
    },
    {
      "cell_type": "code",
      "source": [
        "regression = LinearRegression(yacht.values[:,:6], yacht.values[:, 6], learningRate=0.001,batch_size= 100, l = 0.001, tolerance = 0.001, maxIteration= 50000)\n",
        "regression.fit()"
      ],
      "metadata": {
        "colab": {
          "base_uri": "https://localhost:8080/"
        },
        "id": "MW-SNw4axAqp",
        "outputId": "6bb4414e-0eb3-4cce-e6ab-397bac30de05"
      },
      "execution_count": 21,
      "outputs": [
        {
          "output_type": "stream",
          "name": "stdout",
          "text": [
            "Data is Full Rank\n",
            "Data is not low Rank\n",
            "Solving using closed form solution\n",
            "[22.93399433 -0.90751811  1.04796575  0.38867104  0.6622465  -2.17214484\n",
            "  2.58716716  0.50645061 -2.59559964  2.30818886 -1.67320027 -2.33651383\n",
            "  0.65618617 -3.99472177]\n",
            "test error: 21.38160796571934\n"
          ]
        }
      ]
    },
    {
      "cell_type": "code",
      "source": [
        "# gradient descent\n",
        "regression = LinearRegression(yacht.values[:,:6], yacht.values[:, 6], learningRate=0.001,batch_size= 100, l = 0.01, tolerance = 0.001, maxIteration= 50000, gd = True)\n",
        "regression.fit()"
      ],
      "metadata": {
        "colab": {
          "base_uri": "https://localhost:8080/",
          "height": 469
        },
        "id": "5kRC0gjE6RM3",
        "outputId": "34b52d66-49ff-4959-afcc-d46775fd50c2"
      },
      "execution_count": 22,
      "outputs": [
        {
          "output_type": "stream",
          "name": "stdout",
          "text": [
            "Data is Full Rank\n",
            "Data is not low Rank\n",
            "Solving using Gradient Descent\n"
          ]
        },
        {
          "output_type": "stream",
          "name": "stderr",
          "text": [
            "  0%|          | 4/50000 [00:00<00:08, 5807.27it/s]"
          ]
        },
        {
          "output_type": "stream",
          "name": "stdout",
          "text": [
            "epoch: 0 error: 290.69023208701236\n",
            "The model stopped - no further improvement ended at epoch:  4\n"
          ]
        },
        {
          "output_type": "stream",
          "name": "stderr",
          "text": [
            "\n"
          ]
        },
        {
          "output_type": "display_data",
          "data": {
            "text/plain": [
              "<Figure size 432x288 with 1 Axes>"
            ],
            "image/png": "[encoded data removed]"
          },
          "metadata": {
            "needs_background": "light"
          }
        },
        {
          "output_type": "stream",
          "name": "stdout",
          "text": [
            "[20.33382816 -1.46213035  1.41935852 -1.58575539  0.92749415 -1.64702607\n",
            "  3.91401928 -1.18438633 -0.07346836 -0.83941423 -1.52403194 -2.71204039\n",
            "  1.29520051 -4.10183747]\n",
            "test error: 118.04233751696694\n"
          ]
        }
      ]
    },
    {
      "cell_type": "code",
      "source": [
        "# gradient descent with regularization\n",
        "regression = LinearRegression(yacht.values[:,:6], housing.values[:, 6], learningRate=0.001,batch_size= 100, l = 0.001, tolerance = 0.001, maxIteration= 50000, gd = True, reg = True)\n",
        "regression.fit()"
      ],
      "metadata": {
        "colab": {
          "base_uri": "https://localhost:8080/",
          "height": 469
        },
        "id": "ty9VX2xV7V7q",
        "outputId": "f7327bf3-8ae8-4024-988a-481f6356c6dc"
      },
      "execution_count": 23,
      "outputs": [
        {
          "output_type": "stream",
          "name": "stdout",
          "text": [
            "Data is Full Rank\n",
            "Data is not low Rank\n",
            "Solving using Gradient Descent\n"
          ]
        },
        {
          "output_type": "stream",
          "name": "stderr",
          "text": [
            "  0%|          | 4/50000 [00:00<00:43, 1143.95it/s]"
          ]
        },
        {
          "output_type": "stream",
          "name": "stdout",
          "text": [
            "epoch: 0 error: 290.69023208701236\n",
            "The model stopped - no further improvement ended at epoch:  4\n"
          ]
        },
        {
          "output_type": "stream",
          "name": "stderr",
          "text": [
            "\n"
          ]
        },
        {
          "output_type": "display_data",
          "data": {
            "text/plain": [
              "<Figure size 432x288 with 1 Axes>"
            ],
            "image/png": "[encoded data removed]"
          },
          "metadata": {
            "needs_background": "light"
          }
        },
        {
          "output_type": "stream",
          "name": "stdout",
          "text": [
            "[20.40902275 -1.45616755  1.4121039  -1.5748774   0.93028981 -1.63688114\n",
            "  3.91836548 -1.17358521 -0.08904966 -0.82715173 -1.51332696 -2.71203923\n",
            "  1.29075395 -4.10180354]\n",
            "test error: 116.3723756597664\n"
          ]
        }
      ]
    },
    {
      "cell_type": "code",
      "source": [
        "# SGD\n",
        "regression = LinearRegression(yacht.values[:,:6], housing.values[:, 6], learningRate=0.001,batch_size= 100, l = 0.001, tolerance = 0.001, maxIteration= 50000, gd = True, reg = True, sgd = True)\n",
        "regression.fit()"
      ],
      "metadata": {
        "colab": {
          "base_uri": "https://localhost:8080/",
          "height": 503
        },
        "id": "Y9hNM2g975nn",
        "outputId": "2b6acb6b-c4ad-44f4-9c2b-4ef782b427b2"
      },
      "execution_count": 24,
      "outputs": [
        {
          "output_type": "stream",
          "name": "stdout",
          "text": [
            "Data is Full Rank\n",
            "Data is not low Rank\n",
            "using using Stochastic Gradient Descent\n"
          ]
        },
        {
          "output_type": "stream",
          "name": "stderr",
          "text": [
            "  0%|          | 235/50000 [00:00<00:02, 17038.82it/s]"
          ]
        },
        {
          "output_type": "stream",
          "name": "stdout",
          "text": [
            "epoch: 0 error: 1091.5161971683353\n",
            "epoch: 100 error: 134.16975581361226\n",
            "epoch: 200 error: 8.841457988826557\n",
            "The model stopped - no further improvement ended at epoch:  235\n"
          ]
        },
        {
          "output_type": "stream",
          "name": "stderr",
          "text": [
            "\n"
          ]
        },
        {
          "output_type": "display_data",
          "data": {
            "text/plain": [
              "<Figure size 432x288 with 1 Axes>"
            ],
            "image/png": "[encoded data removed]"
          },
          "metadata": {
            "needs_background": "light"
          }
        },
        {
          "output_type": "stream",
          "name": "stdout",
          "text": [
            "[11.33473752 -3.20267993 -2.47675394  0.72056796 -2.85070366 -2.44967317\n",
            "  6.02424362  0.43133637 -3.24039711 -6.59619509 -6.28791461 -6.79696644\n",
            "  2.32464252 -5.51360793]\n",
            "test error: 579.2922990687462\n"
          ]
        }
      ]
    },
    {
      "cell_type": "markdown",
      "source": [
        "FOR Concrete"
      ],
      "metadata": {
        "id": "5Hv18sJP8tqp"
      }
    },
    {
      "cell_type": "code",
      "source": [
        "concrete.shape"
      ],
      "metadata": {
        "colab": {
          "base_uri": "https://localhost:8080/"
        },
        "id": "iCkLF0xT8bpw",
        "outputId": "3645dcb4-a5dc-4afa-cb89-59e56bc0cbc5"
      },
      "execution_count": 25,
      "outputs": [
        {
          "output_type": "execute_result",
          "data": {
            "text/plain": [
              "(1029, 9)"
            ]
          },
          "metadata": {},
          "execution_count": 25
        }
      ]
    },
    {
      "cell_type": "code",
      "source": [
        "regression = LinearRegression(concrete.values[:,:8], concrete.values[:, 8], learningRate=0.0007 ,batch_size= 100, l = 0.001, tolerance = 0.0001, maxIteration= 50000)\n",
        "regression.fit()"
      ],
      "metadata": {
        "colab": {
          "base_uri": "https://localhost:8080/"
        },
        "id": "qx-1jgc784MH",
        "outputId": "9c3bc5f8-b01f-4d06-d878-ed932108f49e"
      },
      "execution_count": 26,
      "outputs": [
        {
          "output_type": "stream",
          "name": "stdout",
          "text": [
            "Data is Full Rank\n",
            "Data is not low Rank\n",
            "Solving using closed form solution\n",
            "[22.93399433 -0.90751811  1.04796575  0.38867104  0.6622465  -2.17214484\n",
            "  2.58716716  0.50645061 -2.59559964  2.30818886 -1.67320027 -2.33651383\n",
            "  0.65618617 -3.99472177]\n",
            "test error: 21.38160796571934\n"
          ]
        }
      ]
    },
    {
      "cell_type": "code",
      "source": [
        "regression = LinearRegression(concrete.values[:,:8], concrete.values[:, 8], learningRate=0.0007 ,batch_size= 100, l = 0.001, tolerance = 0.0001, maxIteration= 50000, gd = True)\n",
        "regression.fit()"
      ],
      "metadata": {
        "colab": {
          "base_uri": "https://localhost:8080/",
          "height": 486
        },
        "id": "6SeEs-9z9ZCw",
        "outputId": "957b3aaa-a925-4e4a-9c01-827eba105230"
      },
      "execution_count": 27,
      "outputs": [
        {
          "output_type": "stream",
          "name": "stdout",
          "text": [
            "Data is Full Rank\n",
            "Data is not low Rank\n",
            "Solving using Gradient Descent\n"
          ]
        },
        {
          "output_type": "stream",
          "name": "stderr",
          "text": [
            "  0%|          | 161/50000 [00:00<00:04, 11461.79it/s]"
          ]
        },
        {
          "output_type": "stream",
          "name": "stdout",
          "text": [
            "epoch: 0 error: 343.8346697590829\n",
            "epoch: 100 error: 22.4118804872412\n",
            "The model stopped - no further improvement ended at epoch:  161\n"
          ]
        },
        {
          "output_type": "stream",
          "name": "stderr",
          "text": [
            "\n"
          ]
        },
        {
          "output_type": "display_data",
          "data": {
            "text/plain": [
              "<Figure size 432x288 with 1 Axes>"
            ],
            "image/png": "[encoded data removed]"
          },
          "metadata": {
            "needs_background": "light"
          }
        },
        {
          "output_type": "stream",
          "name": "stdout",
          "text": [
            "[22.93399433 -0.89834485  1.02957848  0.33684608  0.66945855 -2.15541085\n",
            "  2.59739088  0.48858631 -2.60131124  2.17438383 -1.52477683 -2.33048068\n",
            "  0.65523442 -3.98863395]\n",
            "test error: 21.407185497576577\n"
          ]
        }
      ]
    },
    {
      "cell_type": "code",
      "source": [
        "regression = LinearRegression(concrete.values[:,:8], concrete.values[:, 8], learningRate=0.0007 ,batch_size= 100, l = 0.001, tolerance = 0.0001, maxIteration= 50000, gd = True, reg = True)\n",
        "regression.fit()"
      ],
      "metadata": {
        "colab": {
          "base_uri": "https://localhost:8080/",
          "height": 486
        },
        "id": "46gKrrEl95i3",
        "outputId": "9ca84cdd-df1c-4abd-969a-7eac02e93094"
      },
      "execution_count": 28,
      "outputs": [
        {
          "output_type": "stream",
          "name": "stdout",
          "text": [
            "Data is Full Rank\n",
            "Data is not low Rank\n",
            "Solving using Gradient Descent\n"
          ]
        },
        {
          "output_type": "stream",
          "name": "stderr",
          "text": [
            "  0%|          | 127/50000 [00:00<00:07, 7065.80it/s]"
          ]
        },
        {
          "output_type": "stream",
          "name": "stdout",
          "text": [
            "epoch: 0 error: 343.8346697590829\n",
            "epoch: 100 error: 22.438376994220146\n",
            "The model stopped - no further improvement ended at epoch:  127\n"
          ]
        },
        {
          "output_type": "stream",
          "name": "stderr",
          "text": [
            "\n"
          ]
        },
        {
          "output_type": "display_data",
          "data": {
            "text/plain": [
              "<Figure size 432x288 with 1 Axes>"
            ],
            "image/png": "[encoded data removed]"
          },
          "metadata": {
            "needs_background": "light"
          }
        },
        {
          "output_type": "stream",
          "name": "stdout",
          "text": [
            "[23.12113423 -0.91270536  1.05826017  0.36144985  0.66545755 -2.25611811\n",
            "  2.57344171  0.52278618 -2.68709179  2.25117508 -1.55364954 -2.35710233\n",
            "  0.65662619 -4.0468084 ]\n",
            "test error: 21.49496511133331\n"
          ]
        }
      ]
    },
    {
      "cell_type": "code",
      "source": [
        "regression = LinearRegression(concrete.values[:,:8], concrete.values[:, 8], learningRate=0.0007 ,batch_size= 100, l = 0.001, tolerance = 0.0001, maxIteration= 50000, sgd = True, reg = True)\n",
        "regression.fit()"
      ],
      "metadata": {
        "colab": {
          "base_uri": "https://localhost:8080/",
          "height": 521
        },
        "id": "msbO4T6k9-NP",
        "outputId": "7141566c-f80e-415c-ba7f-169b43f2b470"
      },
      "execution_count": 29,
      "outputs": [
        {
          "output_type": "stream",
          "name": "stdout",
          "text": [
            "Data is Full Rank\n",
            "Data is not low Rank\n",
            "using using Stochastic Gradient Descent\n"
          ]
        },
        {
          "output_type": "stream",
          "name": "stderr",
          "text": [
            "  1%|          | 370/50000 [00:00<00:03, 15439.10it/s]"
          ]
        },
        {
          "output_type": "stream",
          "name": "stdout",
          "text": [
            "epoch: 0 error: 517.3654651628013\n",
            "epoch: 100 error: 149.97738430162258\n",
            "epoch: 200 error: 50.23451014518542\n",
            "epoch: 300 error: 26.17679364913343\n",
            "The model stopped - no further improvement ended at epoch:  370\n"
          ]
        },
        {
          "output_type": "stream",
          "name": "stderr",
          "text": [
            "\n"
          ]
        },
        {
          "output_type": "display_data",
          "data": {
            "text/plain": [
              "<Figure size 432x288 with 1 Axes>"
            ],
            "image/png": "[encoded data removed]"
          },
          "metadata": {
            "needs_background": "light"
          }
        },
        {
          "output_type": "stream",
          "name": "stdout",
          "text": [
            "[ 8.84648057 -1.81463251 -0.51727205 -0.26570488 -2.22490327  2.34525143\n",
            " -0.37417442  0.18163293 -2.79150545  5.17668977  3.13512633 -7.63122113\n",
            "  3.33104023 -4.59695776]\n",
            "test error: 291.9991983294309\n"
          ]
        }
      ]
    },
    {
      "cell_type": "code",
      "source": [
        ""
      ],
      "metadata": {
        "id": "n4-On9lR-DAY"
      },
      "execution_count": 29,
      "outputs": []
    }
  ]
}